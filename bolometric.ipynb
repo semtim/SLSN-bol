{
 "cells": [
  {
   "cell_type": "code",
   "execution_count": 1,
   "id": "b2fef8f1-1eb3-4436-93ca-1ea95e40bce7",
   "metadata": {},
   "outputs": [],
   "source": [
    "import numpy as np\n",
    "import matplotlib.pyplot as plt\n",
    "from scipy.optimize import minimize, least_squares\n",
    "import os\n",
    "import pandas as pd\n",
    "import bb\n",
    "from multiprocessing import Pool"
   ]
  },
  {
   "cell_type": "code",
   "execution_count": 4,
   "id": "a103f371-3327-45b5-b34d-abc4bef9630f",
   "metadata": {},
   "outputs": [],
   "source": [
    "temp = os.path.abspath(\"second_cut.csv\")\n",
    "name = pd.read_csv(temp, sep=\",\")\n",
    "name = pd.DataFrame(name[\"Name\"])\n",
    "name = np.array( name[\"Name\"].tolist() )\n",
    "\n",
    "temp = os.path.abspath(\"redshifts.csv\")\n",
    "redshifts = pd.read_csv(temp, sep=\",\")\n",
    "\n",
    "def compute_bol(slsn):\n",
    "    #slsn - name of object\n",
    "    # data в магнитудах\n",
    "    temp = os.path.abspath('data/' + slsn + \".csv\")\n",
    "    ap_data = pd.read_csv(temp, sep=\",\")\n",
    "    z = float( redshifts.loc[redshifts[\"Name\"] == slsn]['z'])\n",
    "\n",
    "    columns = ['mjd', 'T', 'R']\n",
    "    BB_parameters = pd.DataFrame(columns=columns)\n",
    "    BB_parameters[\"mjd\"] = ap_data[\"mjd\"]\n",
    "    data_size = len(ap_data)\n",
    "    bb_T, bb_R = [], []\n",
    "    fun = []\n",
    "    succ = []\n",
    "    logL, sigma_logL = [], []\n",
    "    \n",
    "    pred_params = np.array([1.4, 0.1])\n",
    "    for d in range(data_size):\n",
    "        result = minimize(bb.sum_squared_err, pred_params,\n",
    "                          args=(ap_data.iloc[d], z),\n",
    "                          method = 'Newton-CG',\n",
    "                          jac=bb.band_mag_jac,\n",
    "                          hess=bb.band_mag_hess\n",
    "                         )\n",
    "        bb_T.append(result.x[0] * bb.const[0])\n",
    "        bb_R.append(result.x[1] * bb.const[1])\n",
    "        succ.append(result.success)\n",
    "        fun.append(result.fun)\n",
    "        pred_params = (result.x[0], result.x[1])\n",
    "        logL.append(np.log10(bb.L(pred_params)))\n",
    "        sigma_logL.append(bb.sigma_logL(pred_params, ap_data.iloc[d], z))\n",
    "\n",
    "    BB_parameters[\"T\"], BB_parameters[\"R\"] = bb_T, bb_R\n",
    "    BB_parameters[\"fun\"] = fun\n",
    "    BB_parameters[\"success\"] = succ\n",
    "    BB_parameters['logL'] = logL\n",
    "    BB_parameters['sigma_logL'] = sigma_logL\n",
    "\n",
    "    BB_parameters.to_csv(f'bol_output/data/{slsn}.csv', index=False)"
   ]
  },
  {
   "cell_type": "code",
   "execution_count": null,
   "id": "2829bafb-efdf-4079-8c96-f3df8f31622f",
   "metadata": {},
   "outputs": [
    {
     "name": "stderr",
     "output_type": "stream",
     "text": [
      "/tmp/ipykernel_3510/1885459514.py:14: FutureWarning: Calling float on a single element Series is deprecated and will raise a TypeError in the future. Use float(ser.iloc[0]) instead\n",
      "  z = float( redshifts.loc[redshifts[\"Name\"] == slsn]['z'])\n",
      "/tmp/ipykernel_3510/1885459514.py:14: FutureWarning: Calling float on a single element Series is deprecated and will raise a TypeError in the future. Use float(ser.iloc[0]) instead\n",
      "  z = float( redshifts.loc[redshifts[\"Name\"] == slsn]['z'])\n"
     ]
    }
   ],
   "source": [
    "pool = Pool(processes=2)\n",
    "pool.map(compute_bol, ['PTF12dam', 'SN2006gy'])\n",
    "pool.close()\n",
    "pool.join()"
   ]
  },
  {
   "cell_type": "code",
   "execution_count": null,
   "id": "f6f8d423-4af0-4785-904c-6106d37c5018",
   "metadata": {},
   "outputs": [],
   "source": []
  }
 ],
 "metadata": {
  "kernelspec": {
   "display_name": "rb-ztf",
   "language": "python",
   "name": "rb-ztf"
  },
  "language_info": {
   "codemirror_mode": {
    "name": "ipython",
    "version": 3
   },
   "file_extension": ".py",
   "mimetype": "text/x-python",
   "name": "python",
   "nbconvert_exporter": "python",
   "pygments_lexer": "ipython3",
   "version": "3.8.0"
  }
 },
 "nbformat": 4,
 "nbformat_minor": 5
}
